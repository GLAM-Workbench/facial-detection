{
 "cells": [
  {
   "cell_type": "markdown",
   "metadata": {},
   "source": [
    "# Make all the faces into one big image\n",
    "\n",
    "Having extracted lots and lots of faces from the Tribune photos, I thought I'd combine them in [one big image](https://easyzoom.com/image/127772)."
   ]
  },
  {
   "cell_type": "code",
   "execution_count": null,
   "metadata": {},
   "outputs": [],
   "source": [
    "from PIL import Image\n",
    "import os\n",
    "from tqdm import tqdm_notebook"
   ]
  },
  {
   "cell_type": "code",
   "execution_count": null,
   "metadata": {},
   "outputs": [],
   "source": [
    "# Image dimensions and row length are determined by the number of images\n",
    "im = Image.new('RGB',(23400, 23450))\n",
    "row_size = 480\n",
    "y = 0\n",
    "x = 0\n",
    "for index, face in enumerate(tqdm_notebook([f for f in os.listdir('faces') if f[-4:] == '.jpg']), start=1):\n",
    "    face_img = Image.open(os.path.join('faces', face))\n",
    "    face_img.thumbnail((50, 50))\n",
    "    try:\n",
    "        im.paste(face_img, (x, y, x+50, y+50))\n",
    "    except ValueError:\n",
    "        print(face)\n",
    "    if (index % row_size) == 0:\n",
    "        x = 0\n",
    "        y += 50\n",
    "    else:\n",
    "        x += 50\n",
    "im.save('faces.jpg')"
   ]
  }
 ],
 "metadata": {
  "kernelspec": {
   "display_name": "Python 3",
   "language": "python",
   "name": "python3"
  },
  "language_info": {
   "codemirror_mode": {
    "name": "ipython",
    "version": 3
   },
   "file_extension": ".py",
   "mimetype": "text/x-python",
   "name": "python",
   "nbconvert_exporter": "python",
   "pygments_lexer": "ipython3",
   "version": "3.6.5"
  }
 },
 "nbformat": 4,
 "nbformat_minor": 2
}

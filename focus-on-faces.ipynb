{
 "cells": [
  {
   "cell_type": "markdown",
   "metadata": {},
   "source": [
    "# Focus on faces\n",
    "\n",
    "Selects an image at random from the Tribune collection in the State Library of NSW."
   ]
  },
  {
   "cell_type": "code",
   "execution_count": null,
   "metadata": {},
   "outputs": [],
   "source": [
    "# This notebook is intended to be run in Appmode...\n",
    "\n",
    "import cv2\n",
    "import pandas as pd\n",
    "import os\n",
    "from urllib.parse import urlparse\n",
    "import requests\n",
    "from IPython.display import display, HTML\n",
    "import copy\n",
    "from PIL import Image"
   ]
  },
  {
   "cell_type": "code",
   "execution_count": null,
   "metadata": {},
   "outputs": [],
   "source": [
    "# Link to the facial detection data file\n",
    "face_cl = cv2.CascadeClassifier(cv2.data.haarcascades + 'haarcascade_frontalface_default.xml')\n",
    "\n",
    "# Load the face frequency data file\n",
    "df = pd.read_csv('faces_per_image.csv')\n",
    "\n",
    "\n",
    "def select_image(min_faces=20):\n",
    "    '''\n",
    "    Select a random image with the minimum number of faces.\n",
    "    '''\n",
    "    row = df.loc[df['faces'] > min_faces].sample(1)\n",
    "    return row.iloc[0]['image']\n",
    "\n",
    "\n",
    "def download_image(img_id, img_url):\n",
    "    '''\n",
    "    Download and save the specified image.\n",
    "    '''\n",
    "    current_dir = os.getcwd()\n",
    "    os.makedirs(os.path.join(current_dir, 'fades'), exist_ok=True)\n",
    "    filename = os.path.join(current_dir, 'fades', '{}-end.jpg'.format(img_id))\n",
    "    response = requests.get(img_url, stream=True)\n",
    "    with open(filename, 'wb') as fd:\n",
    "        for chunk in response.iter_content(chunk_size=128):\n",
    "            fd.write(chunk)\n",
    "    return filename \n",
    "\n",
    "\n",
    "def detect_faces(img_id, img_file):\n",
    "    '''\n",
    "    Use OpenCV to find faces.\n",
    "    Create a new version of the image with JUST the faces.\n",
    "    '''\n",
    "    faces = []\n",
    "    f = 1\n",
    "    os.makedirs('faces', exist_ok=True)\n",
    "    # print('Processing {}'.format(img_file))\n",
    "    try:\n",
    "        image = cv2.imread(img_file)\n",
    "        # Create a greyscale copy for face detection\n",
    "        grey = cv2.cvtColor(image, cv2.COLOR_RGB2GRAY)\n",
    "        # Find faces!\n",
    "        # Try adjusting scaleFactor and minNeighbors if results aren't what you expect.\n",
    "        faces = face_cl.detectMultiScale(grey, scaleFactor=1.3, minNeighbors=4, minSize=(50, 50))\n",
    "    except cv2.error:\n",
    "        raise\n",
    "    else:\n",
    "        img = Image.open(img_file)\n",
    "        img_faces = Image.new('RGB', img.size, 'white')\n",
    "        for (x, y, w, h) in faces:\n",
    "            face = img.crop((x, y, x+w, y+h))\n",
    "            img_faces.paste(face, (x, y, x+w, y+h))\n",
    "        img_faces.save('fades/{}-start.jpg'.format(img_id))\n",
    "\n",
    "\n",
    "def create_face_fade(img_id=None, min_faces=20):\n",
    "    '''\n",
    "    Generates a simple animated thing-y.\n",
    "    Starts with just the faces, click and the rest of the photos fades in.\n",
    "    '''\n",
    "    if img_id:\n",
    "        img = '{}.jpg'.format(img_id)\n",
    "    else:\n",
    "        img = select_image(min_faces)\n",
    "        img_id = img[:-4]\n",
    "    img_url = 'https://s3-ap-southeast-2.amazonaws.com/wraggetribune/images/{0}'.format(img)\n",
    "    img_file = download_image(img_id, img_url)\n",
    "    faces = detect_faces(img_id, img_file)\n",
    "    html = '<div style=\"background-image: url(\\'fades/{0}-start.jpg\\'); background-repeat: no-repeat; background-size: cover;\"><img style=\"opacity: 0; transition: opacity 5s linear;\" onclick=\"this.style.opacity=1\" src=\"fades/{0}-end.jpg\"></div>'.format(img_id)\n",
    "    html += '<br><a target=\"_blank\" href=\"http://digital.sl.nsw.gov.au/delivery/DeliveryManagerServlet?dps_pid={}&embedded=true&toolbar=false\">More details at SLNSW</a><br>'.format(img_id)\n",
    "    display(HTML(html))"
   ]
  },
  {
   "cell_type": "code",
   "execution_count": null,
   "metadata": {},
   "outputs": [],
   "source": [
    "create_face_fade(min_faces=100)"
   ]
  },
  {
   "cell_type": "markdown",
   "metadata": {},
   "source": [
    "Click on the faces to reveal more. \n",
    "\n",
    "Reload the page for another photo."
   ]
  },
  {
   "cell_type": "code",
   "execution_count": null,
   "metadata": {},
   "outputs": [],
   "source": []
  }
 ],
 "metadata": {
  "kernelspec": {
   "display_name": "Python 3",
   "language": "python",
   "name": "python3"
  },
  "language_info": {
   "codemirror_mode": {
    "name": "ipython",
    "version": 3
   },
   "file_extension": ".py",
   "mimetype": "text/x-python",
   "name": "python",
   "nbconvert_exporter": "python",
   "pygments_lexer": "ipython3",
   "version": "3.7.7"
  }
 },
 "nbformat": 4,
 "nbformat_minor": 2
}
